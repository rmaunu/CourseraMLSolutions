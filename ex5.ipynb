{
 "cells": [
  {
   "cell_type": "code",
   "execution_count": 1,
   "metadata": {
    "collapsed": true
   },
   "outputs": [],
   "source": [
    "from __future__ import print_function\n",
    "\n",
    "import numpy as np\n",
    "import seaborn as sbn\n",
    "import matplotlib as mpl\n",
    "import matplotlib.pyplot as plt\n",
    "import matplotlib.gridspec as gridspec\n",
    "import scipy\n",
    "import scipy.optimize\n",
    "import scipy.io\n",
    "\n",
    "from itertools import izip\n",
    "\n",
    "plt.style.use('classic')\n",
    "mpl.rcParams['axes.xmargin'] = 0.0\n",
    "mpl.rcParams['axes.ymargin'] = 0.0\n",
    "\n",
    "%matplotlib inline"
   ]
  },
  {
   "cell_type": "code",
   "execution_count": 2,
   "metadata": {
    "collapsed": true
   },
   "outputs": [],
   "source": [
    "data = scipy.io.loadmat ('ex5data1.mat')\n",
    "\n",
    "X = data['X']\n",
    "y = data['y']\n",
    "\n",
    "m = X.shape[0]\n",
    "X = np.hstack ((np.ones ((m, 1)), X))\n",
    "\n",
    "X_val = data['Xval']\n",
    "y_val = data['yval']\n",
    "\n",
    "m_val = X_val.shape[0]\n",
    "X_val = np.hstack ((np.ones ((m_val, 1)), X_val))\n",
    "\n",
    "X_test = data['Xtest']\n",
    "y_test = data['ytest']\n",
    "\n",
    "m_test = X_test.shape[0]\n",
    "X_test = np.hstack ((np.ones ((m_test, 1)), X_test))"
   ]
  },
  {
   "cell_type": "code",
   "execution_count": 3,
   "metadata": {
    "collapsed": false
   },
   "outputs": [
    {
     "data": {
      "image/png": "[encoded data removed]",
      "text/plain": [
       "<matplotlib.figure.Figure at 0x7fb70ffb6590>"
      ]
     },
     "metadata": {},
     "output_type": "display_data"
    }
   ],
   "source": [
    "fig = plt.figure ()\n",
    "ax = fig.add_subplot (111)\n",
    "ax.scatter (X[:, 1], y, marker='x', color='r', s=30)\n",
    "ax.set_xlabel ('Change in water level (x)')\n",
    "ax.set_ylabel ('Water flowing out of the dam (y)')\n",
    "ax.set_xlim (-50, 40)\n",
    "ax.set_ylim (0, 40)\n",
    "ax.grid ()"
   ]
  },
  {
   "cell_type": "code",
   "execution_count": 4,
   "metadata": {
    "collapsed": true
   },
   "outputs": [],
   "source": [
    "def linearRegCostFunction (X, y, theta, lambda_reg):\n",
    "    m = len (y)\n",
    "    n = X.shape[1]\n",
    "    theta = theta.reshape ((n, 1))\n",
    "    \n",
    "    h_theta = X.dot (theta)\n",
    "    J = 1. / (2. * m) * (np.sum ((h_theta - y)**2)) + \\\n",
    "        lambda_reg / (2. * m) * np.sum (theta[1:]**2)\n",
    "        \n",
    "    return (J)\n",
    "\n",
    "def linearRegCostFunctionGradient (X, y, theta, lambda_reg):\n",
    "    m = len (y)\n",
    "    n = X.shape[1]\n",
    "    theta = theta.reshape ((n, 1))\n",
    "    \n",
    "    h_theta = X.dot (theta)\n",
    "    grad = 1. / m * X.T.dot (h_theta - y)\n",
    "    grad[1:] += lambda_reg / m * theta[1:]\n",
    "    return (grad.flatten  ())"
   ]
  },
  {
   "cell_type": "code",
   "execution_count": 5,
   "metadata": {
    "collapsed": false
   },
   "outputs": [
    {
     "name": "stdout",
     "output_type": "stream",
     "text": [
      "Cost at theta = [1 ; 1]: 303.993192\n",
      "(this value should be about 303.993192)\n"
     ]
    }
   ],
   "source": [
    "theta = np.array ([1., 1.])\n",
    "\n",
    "J = linearRegCostFunction (X, y, theta, 1.)\n",
    "print ('Cost at theta = [1 ; 1]: {0:.6f}'.format (J))\n",
    "print ('(this value should be about 303.993192)')"
   ]
  },
  {
   "cell_type": "code",
   "execution_count": 6,
   "metadata": {
    "collapsed": false
   },
   "outputs": [
    {
     "name": "stdout",
     "output_type": "stream",
     "text": [
      "Gradient at theta = [1 ; 1]:  [ -15.30301567  598.25074417]\n",
      "(this value should be about [-15.303016; 598.250744])\n"
     ]
    }
   ],
   "source": [
    "grad = linearRegCostFunctionGradient (X, y, theta, 1.)\n",
    "print ('Gradient at theta = [1 ; 1]:  {}'.format (grad))\n",
    "print ('(this value should be about [-15.303016; 598.250744])')"
   ]
  },
  {
   "cell_type": "code",
   "execution_count": 25,
   "metadata": {
    "collapsed": false
   },
   "outputs": [],
   "source": [
    "def trainLinearReg (X, y, lambda_reg, disp=False):\n",
    "    initial_theta = np.zeros (X.shape[1])\n",
    "    costFunc = lambda theta, X=X, y=y, lambda_reg=lambda_reg: \\\n",
    "        linearRegCostFunction (X, y, theta, lambda_reg)\n",
    "    costGrad = lambda theta, X=X, y=y, lambda_reg=lambda_reg: \\\n",
    "        linearRegCostFunctionGradient (X, y, theta, lambda_reg)\n",
    "    result = scipy.optimize.minimize (\n",
    "        fun=costFunc, x0=initial_theta, jac=costGrad, method='CG',\n",
    "        options=dict (maxiter=50, disp=disp))\n",
    "    return (result)"
   ]
  },
  {
   "cell_type": "code",
   "execution_count": 26,
   "metadata": {
    "collapsed": false
   },
   "outputs": [
    {
     "name": "stdout",
     "output_type": "stream",
     "text": [
      "Optimization terminated successfully.\n",
      "         Current function value: 22.373906\n",
      "         Iterations: 2\n",
      "         Function evaluations: 5\n",
      "         Gradient evaluations: 5\n"
     ]
    }
   ],
   "source": [
    "lambda_reg = 0\n",
    "result = trainLinearReg (X, y, lambda_reg, disp=True)\n",
    "theta = result.x"
   ]
  },
  {
   "cell_type": "code",
   "execution_count": 27,
   "metadata": {
    "collapsed": false
   },
   "outputs": [
    {
     "data": {
      "image/png": "[encoded data removed]",
      "text/plain": [
       "<matplotlib.figure.Figure at 0x7fb70da2c590>"
      ]
     },
     "metadata": {},
     "output_type": "display_data"
    }
   ],
   "source": [
    "fig = plt.figure ()\n",
    "ax = fig.add_subplot (111)\n",
    "ax.scatter (X[:, 1], y, marker='x', color='r', s=30)\n",
    "ax.plot (X[:, 1], X.dot (theta.reshape ((X.shape[1], 1))), \n",
    "         color='b', ls='-', lw=2)\n",
    "ax.set_xlabel ('Change in water level (x)')\n",
    "ax.set_ylabel ('Water flowing out of the dam (y)')\n",
    "ax.set_xlim (-50, 40)\n",
    "ax.set_ylim (-5, 40)\n",
    "ax.grid ()"
   ]
  },
  {
   "cell_type": "code",
   "execution_count": 10,
   "metadata": {
    "collapsed": true
   },
   "outputs": [],
   "source": [
    "def learningCurve (X, y, X_val, y_val, lambda_reg):\n",
    "    m = X.shape[0]\n",
    "    m_val = X_val.shape[0]\n",
    "    \n",
    "    error_train = np.zeros (m)\n",
    "    error_val = np.zeros (m)\n",
    "    \n",
    "    for i in range (m):\n",
    "        X_train = X[:i+1]\n",
    "        y_train = y[:i+1]\n",
    "        \n",
    "        result = trainLinearReg (X_train, y_train, lambda_reg)\n",
    "        theta = result.x\n",
    "        \n",
    "        error_train[i] = linearRegCostFunction (X_train, y_train, theta, 0.)\n",
    "        error_val[i] = linearRegCostFunction (X_val, y_val, theta, 0.)\n",
    "        \n",
    "    return (error_train, error_val)"
   ]
  },
  {
   "cell_type": "code",
   "execution_count": 11,
   "metadata": {
    "collapsed": false,
    "scrolled": true
   },
   "outputs": [
    {
     "name": "stdout",
     "output_type": "stream",
     "text": [
      "Optimization terminated successfully.\n",
      "         Current function value: 0.000000\n",
      "         Iterations: 1\n",
      "         Function evaluations: 3\n",
      "         Gradient evaluations: 3\n",
      "Optimization terminated successfully.\n",
      "         Current function value: 0.000000\n",
      "         Iterations: 2\n",
      "         Function evaluations: 6\n",
      "         Gradient evaluations: 6\n",
      "Optimization terminated successfully.\n",
      "         Current function value: 3.286595\n",
      "         Iterations: 9\n",
      "         Function evaluations: 15\n",
      "         Gradient evaluations: 15\n",
      "Optimization terminated successfully.\n",
      "         Current function value: 2.842678\n",
      "         Iterations: 8\n",
      "         Function evaluations: 14\n",
      "         Gradient evaluations: 14\n",
      "Optimization terminated successfully.\n",
      "         Current function value: 13.154049\n",
      "         Iterations: 22\n",
      "         Function evaluations: 34\n",
      "         Gradient evaluations: 34\n",
      "Optimization terminated successfully.\n",
      "         Current function value: 19.443963\n",
      "         Iterations: 22\n",
      "         Function evaluations: 34\n",
      "         Gradient evaluations: 34\n",
      "Optimization terminated successfully.\n",
      "         Current function value: 20.098522\n",
      "         Iterations: 18\n",
      "         Function evaluations: 28\n",
      "         Gradient evaluations: 28\n",
      "Optimization terminated successfully.\n",
      "         Current function value: 18.172859\n",
      "         Iterations: 2\n",
      "         Function evaluations: 5\n",
      "         Gradient evaluations: 5\n",
      "Optimization terminated successfully.\n",
      "         Current function value: 22.609405\n",
      "         Iterations: 2\n",
      "         Function evaluations: 5\n",
      "         Gradient evaluations: 5\n",
      "Optimization terminated successfully.\n",
      "         Current function value: 23.261462\n",
      "         Iterations: 2\n",
      "         Function evaluations: 5\n",
      "         Gradient evaluations: 5\n",
      "Optimization terminated successfully.\n",
      "         Current function value: 24.317250\n",
      "         Iterations: 2\n",
      "         Function evaluations: 5\n",
      "         Gradient evaluations: 5\n",
      "Optimization terminated successfully.\n",
      "         Current function value: 22.373906\n",
      "         Iterations: 2\n",
      "         Function evaluations: 5\n",
      "         Gradient evaluations: 5\n"
     ]
    }
   ],
   "source": [
    "lambda_reg = 0.\n",
    "error_train, error_val = learningCurve (X, y, X_val, y_val, lambda_reg)"
   ]
  },
  {
   "cell_type": "code",
   "execution_count": 12,
   "metadata": {
    "collapsed": false
   },
   "outputs": [
    {
     "data": {
      "text/plain": [
       "<matplotlib.legend.Legend at 0x7fb70dce7b50>"
      ]
     },
     "execution_count": 12,
     "metadata": {},
     "output_type": "execute_result"
    },
    {
     "data": {
      "image/png": "[encoded data removed]",
      "text/plain": [
       "<matplotlib.figure.Figure at 0x7fb70dd53450>"
      ]
     },
     "metadata": {},
     "output_type": "display_data"
    }
   ],
   "source": [
    "fig = plt.figure ()\n",
    "ax = fig.add_subplot (111)\n",
    "ax.plot (np.arange (1, m+1), error_train, label='Train')\n",
    "ax.plot (np.arange (1, m+1), error_val, label='Cross Validation')\n",
    "ax.set_xlabel ('Number of training examples')\n",
    "ax.set_ylabel ('Error')\n",
    "ax.set_title ('Learning curve from linear regression')\n",
    "ax.set_ylim (0, 150)\n",
    "ax.grid ()\n",
    "ax.legend (loc='upper right')"
   ]
  },
  {
   "cell_type": "code",
   "execution_count": 13,
   "metadata": {
    "collapsed": false
   },
   "outputs": [],
   "source": [
    "def featureNormalize (X):\n",
    "    X_norm = X.copy ()\n",
    "    mu = np.mean (X, axis=0)\n",
    "    sigma = np.std (X, axis=0, ddof=1)\n",
    "    X_norm = (X_norm - mu) / sigma\n",
    "        \n",
    "    return (X_norm, mu, sigma)\n",
    "\n",
    "def polyFeatures (X, p):\n",
    "    X_poly = np.zeros ((X.shape[0], p))\n",
    "    \n",
    "    for i in range (p):\n",
    "        X_poly[:, [i]] = X**(i+1)\n",
    "        \n",
    "    return (X_poly)"
   ]
  },
  {
   "cell_type": "code",
   "execution_count": 14,
   "metadata": {
    "collapsed": false
   },
   "outputs": [
    {
     "name": "stdout",
     "output_type": "stream",
     "text": [
      "Normalized Training Example 1:\n",
      "[[ 1.      ]\n",
      " [-0.362141]\n",
      " [-0.755087]\n",
      " [ 0.182226]\n",
      " [-0.70619 ]\n",
      " [ 0.306618]\n",
      " [-0.590878]\n",
      " [ 0.344516]\n",
      " [-0.508481]]\n"
     ]
    }
   ],
   "source": [
    "p=8\n",
    "X_poly = polyFeatures (X[:, [1]], p)\n",
    "X_poly, mu, sigma = featureNormalize (X_poly)\n",
    "X_poly = np.hstack ((np.ones ((m, 1)), X_poly))\n",
    "\n",
    "X_poly_test = polyFeatures (X_test[:, [1]], p)\n",
    "X_poly_test -= mu\n",
    "X_poly_test /= sigma\n",
    "X_poly_test = np.hstack ((np.ones ((m_test, 1)), X_poly_test))\n",
    "\n",
    "X_poly_val = polyFeatures (X_val[:, [1]], p)\n",
    "X_poly_val -= mu\n",
    "X_poly_val /= sigma\n",
    "X_poly_val = np.hstack ((np.ones ((m_val, 1)), X_poly_val))\n",
    "\n",
    "np.set_printoptions (precision=6)\n",
    "print ('Normalized Training Example 1:')\n",
    "print (X_poly[[0]].T)"
   ]
  },
  {
   "cell_type": "code",
   "execution_count": 15,
   "metadata": {
    "collapsed": false
   },
   "outputs": [
    {
     "name": "stdout",
     "output_type": "stream",
     "text": [
      "Warning: Maximum number of iterations has been exceeded.\n",
      "         Current function value: 0.213377\n",
      "         Iterations: 50\n",
      "         Function evaluations: 89\n",
      "         Gradient evaluations: 89\n"
     ]
    }
   ],
   "source": [
    "lambda_reg = 0.\n",
    "result = trainLinearReg (X_poly, y, lambda_reg)"
   ]
  },
  {
   "cell_type": "code",
   "execution_count": 16,
   "metadata": {
    "collapsed": false,
    "scrolled": false
   },
   "outputs": [
    {
     "data": {
      "image/png": "[encoded data removed]",
      "text/plain": [
       "<matplotlib.figure.Figure at 0x7fb70de8c450>"
      ]
     },
     "metadata": {},
     "output_type": "display_data"
    }
   ],
   "source": [
    "X_dens = np.arange (X[:, 1].min () - 15., X[:, 1].max () + 25, 0.05)\n",
    "X_dens_poly = polyFeatures (X_dens.reshape (-1, 1), p)\n",
    "X_dens_poly -= mu\n",
    "X_dens_poly /= sigma\n",
    "X_dens_poly = np.hstack ((np.ones ((X_dens_poly.shape[0], 1)), X_dens_poly))\n",
    "theta = result.x.reshape((-1, 1))\n",
    "\n",
    "fig = plt.figure ()\n",
    "ax = fig.add_subplot (111)\n",
    "ax.scatter (X[:, 1], y, marker='x', color='r', s=30)\n",
    "ax.plot (X_dens, X_dens_poly.dot (theta).T[0])\n",
    "ax.set_xlabel ('Change in water level (x)')\n",
    "ax.set_ylabel ('Water flowing out of the dam (y)')\n",
    "ax.set_title ('Polynomial Regression Fit (lambda = {0:.2f})'.format (lambda_reg))\n",
    "ax.set_xlim (-80, 80)\n",
    "ax.set_ylim (-60, 40)\n",
    "ax.grid ()"
   ]
  },
  {
   "cell_type": "code",
   "execution_count": 17,
   "metadata": {
    "collapsed": false,
    "scrolled": true
   },
   "outputs": [
    {
     "name": "stdout",
     "output_type": "stream",
     "text": [
      "Optimization terminated successfully.\n",
      "         Current function value: 0.000000\n",
      "         Iterations: 2\n",
      "         Function evaluations: 4\n",
      "         Gradient evaluations: 4\n",
      "Optimization terminated successfully.\n",
      "         Current function value: 0.000000\n",
      "         Iterations: 3\n",
      "         Function evaluations: 6\n",
      "         Gradient evaluations: 6\n",
      "Optimization terminated successfully.\n",
      "         Current function value: 0.000000\n",
      "         Iterations: 11\n",
      "         Function evaluations: 22\n",
      "         Gradient evaluations: 22\n",
      "Optimization terminated successfully.\n",
      "         Current function value: 0.000000\n",
      "         Iterations: 7\n",
      "         Function evaluations: 18\n",
      "         Gradient evaluations: 18\n",
      "Warning: Maximum number of iterations has been exceeded.\n",
      "         Current function value: 0.000289\n",
      "         Iterations: 50\n",
      "         Function evaluations: 92\n",
      "         Gradient evaluations: 92\n",
      "Warning: Maximum number of iterations has been exceeded.\n",
      "         Current function value: 0.000004\n",
      "         Iterations: 50\n",
      "         Function evaluations: 102\n",
      "         Gradient evaluations: 102\n",
      "Warning: Maximum number of iterations has been exceeded.\n",
      "         Current function value: 0.050254\n",
      "         Iterations: 50\n",
      "         Function evaluations: 89\n",
      "         Gradient evaluations: 89\n",
      "Warning: Maximum number of iterations has been exceeded.\n",
      "         Current function value: 0.091126\n",
      "         Iterations: 50\n",
      "         Function evaluations: 86\n",
      "         Gradient evaluations: 86\n",
      "Warning: Maximum number of iterations has been exceeded.\n",
      "         Current function value: 0.211898\n",
      "         Iterations: 50\n",
      "         Function evaluations: 92\n",
      "         Gradient evaluations: 92\n",
      "Warning: Maximum number of iterations has been exceeded.\n",
      "         Current function value: 0.220145\n",
      "         Iterations: 50\n",
      "         Function evaluations: 104\n",
      "         Gradient evaluations: 104\n",
      "Warning: Maximum number of iterations has been exceeded.\n",
      "         Current function value: 0.210375\n",
      "         Iterations: 50\n",
      "         Function evaluations: 94\n",
      "         Gradient evaluations: 94\n",
      "Warning: Maximum number of iterations has been exceeded.\n",
      "         Current function value: 0.213377\n",
      "         Iterations: 50\n",
      "         Function evaluations: 89\n",
      "         Gradient evaluations: 89\n"
     ]
    }
   ],
   "source": [
    "lambda_reg = 0.\n",
    "error_train, error_val = learningCurve (X_poly, y, X_poly_val, y_val, lambda_reg)"
   ]
  },
  {
   "cell_type": "code",
   "execution_count": 18,
   "metadata": {
    "collapsed": false
   },
   "outputs": [
    {
     "data": {
      "text/plain": [
       "<matplotlib.legend.Legend at 0x7fb70db203d0>"
      ]
     },
     "execution_count": 18,
     "metadata": {},
     "output_type": "execute_result"
    },
    {
     "data": {
      "image/png": "[encoded data removed]",
      "text/plain": [
       "<matplotlib.figure.Figure at 0x7fb70dd1d550>"
      ]
     },
     "metadata": {},
     "output_type": "display_data"
    }
   ],
   "source": [
    "fig = plt.figure ()\n",
    "ax = fig.add_subplot (111)\n",
    "ax.plot (np.arange (1, m+1), error_train, label='Train')\n",
    "ax.plot (np.arange (1, m+1), error_val, label='Cross Validation')\n",
    "ax.set_xlabel ('Number of training examples')\n",
    "ax.set_ylabel ('Error')\n",
    "ax.set_ylim (0, 150)\n",
    "ax.grid ()\n",
    "ax.set_title ('Polynomial Regression Learning Curve (lambda = {0:.2f})'.format (lambda_reg))\n",
    "ax.legend (loc='upper right')"
   ]
  },
  {
   "cell_type": "code",
   "execution_count": 20,
   "metadata": {
    "collapsed": true
   },
   "outputs": [],
   "source": [
    "def validationCurve (X, y, X_val, y_val):\n",
    "    lambda_vec = np.array ([0., 0.001, 0.003, 0.01, 0.03, \n",
    "                            0.1,  0.3, 1., 3., 10.])\n",
    "    d = len (lambda_vec)\n",
    "    m = X.shape[0]\n",
    "    m_val = X_val.shape[0]\n",
    "    \n",
    "    error_train = np.zeros (d)\n",
    "    error_val = np.zeros (d)\n",
    "    \n",
    "    for i in range (d):\n",
    "        result = trainLinearReg (X, y, lambda_vec[i])\n",
    "        theta = result.x\n",
    "        \n",
    "        error_train[i] = linearRegCostFunction (X, y, theta, 0.)\n",
    "        error_val[i] = linearRegCostFunction (X_val, y_val, theta, 0.)\n",
    "        \n",
    "    return (lambda_vec, error_train, error_val)"
   ]
  },
  {
   "cell_type": "code",
   "execution_count": 22,
   "metadata": {
    "collapsed": false,
    "scrolled": true
   },
   "outputs": [
    {
     "name": "stdout",
     "output_type": "stream",
     "text": [
      "Warning: Maximum number of iterations has been exceeded.\n",
      "         Current function value: 0.213377\n",
      "         Iterations: 50\n",
      "         Function evaluations: 89\n",
      "         Gradient evaluations: 89\n",
      "Warning: Maximum number of iterations has been exceeded.\n",
      "         Current function value: 0.240102\n",
      "         Iterations: 50\n",
      "         Function evaluations: 94\n",
      "         Gradient evaluations: 94\n",
      "Warning: Maximum number of iterations has been exceeded.\n",
      "         Current function value: 0.256927\n",
      "         Iterations: 50\n",
      "         Function evaluations: 99\n",
      "         Gradient evaluations: 99\n",
      "Warning: Maximum number of iterations has been exceeded.\n",
      "         Current function value: 0.392529\n",
      "         Iterations: 50\n",
      "         Function evaluations: 96\n",
      "         Gradient evaluations: 96\n",
      "Warning: Maximum number of iterations has been exceeded.\n",
      "         Current function value: 0.669585\n",
      "         Iterations: 50\n",
      "         Function evaluations: 95\n",
      "         Gradient evaluations: 95\n",
      "Optimization terminated successfully.\n",
      "         Current function value: 1.443470\n",
      "         Iterations: 49\n",
      "         Function evaluations: 99\n",
      "         Gradient evaluations: 99\n",
      "Warning: Maximum number of iterations has been exceeded.\n",
      "         Current function value: 3.101591\n",
      "         Iterations: 50\n",
      "         Function evaluations: 91\n",
      "         Gradient evaluations: 91\n",
      "Optimization terminated successfully.\n",
      "         Current function value: 7.268148\n",
      "         Iterations: 32\n",
      "         Function evaluations: 51\n",
      "         Gradient evaluations: 51\n",
      "Optimization terminated successfully.\n",
      "         Current function value: 15.867688\n",
      "         Iterations: 27\n",
      "         Function evaluations: 47\n",
      "         Gradient evaluations: 47\n",
      "Optimization terminated successfully.\n",
      "         Current function value: 33.372203\n",
      "         Iterations: 14\n",
      "         Function evaluations: 27\n",
      "         Gradient evaluations: 27\n"
     ]
    }
   ],
   "source": [
    "lambda_vec, error_train, error_val = \\\n",
    "    validationCurve (X_poly, y, X_poly_val, y_val)"
   ]
  },
  {
   "cell_type": "code",
   "execution_count": 24,
   "metadata": {
    "collapsed": false
   },
   "outputs": [
    {
     "data": {
      "image/png": "[encoded data removed]",
      "text/plain": [
       "<matplotlib.figure.Figure at 0x7fb70db4ad50>"
      ]
     },
     "metadata": {},
     "output_type": "display_data"
    }
   ],
   "source": [
    "fig = plt.figure ()\n",
    "ax = fig.add_subplot (111)\n",
    "ax.plot (lambda_vec, error_train, label='Train')\n",
    "ax.plot (lambda_vec, error_val, label='Cross Validation')\n",
    "ax.set_xlabel ('lambda')\n",
    "ax.set_ylabel ('Error')\n",
    "ax.set_ylim (0, 20)\n",
    "ax.legend (loc='upper left')\n",
    "ax.grid ()"
   ]
  },
  {
   "cell_type": "code",
   "execution_count": 43,
   "metadata": {
    "collapsed": true
   },
   "outputs": [],
   "source": [
    "def learningCurveAvg (X, y, X_val, y_val, lambda_reg):\n",
    "    m = X.shape[0]\n",
    "    m_val = X_val.shape[0]\n",
    "    \n",
    "    iters = 200\n",
    "    \n",
    "    error_train = np.zeros (m)\n",
    "    error_val = np.zeros (m)\n",
    "    \n",
    "    for i in range (m):\n",
    "        error_train_temp = np.zeros (iters)\n",
    "        error_val_temp = np.zeros (iters)\n",
    "        for j in range (iters):\n",
    "            sel = np.random.choice (np.arange (m), i+1)\n",
    "            sel_val = np.random.choice (np.arange (m_val), i+1)\n",
    "            \n",
    "            X_train = X[sel]\n",
    "            y_train = y[sel]\n",
    "            \n",
    "            X_val_temp = X_val[sel_val]\n",
    "            y_val_temp = y_val[sel_val]\n",
    "\n",
    "            result = trainLinearReg (X_train, y_train, lambda_reg)\n",
    "            theta = result.x\n",
    "\n",
    "            error_train_temp[j] = linearRegCostFunction (X_train, y_train, theta, 0.)\n",
    "            error_val_temp[j] = linearRegCostFunction (X_val_temp, y_val_temp, theta, 0.)\n",
    "            \n",
    "        error_train[i] = np.mean (error_train_temp)\n",
    "        error_val[i] = np.mean (error_val_temp)\n",
    "        \n",
    "    return (error_train, error_val)"
   ]
  },
  {
   "cell_type": "code",
   "execution_count": 44,
   "metadata": {
    "collapsed": false,
    "scrolled": true
   },
   "outputs": [],
   "source": [
    "lambda_reg = 0.01 \n",
    "error_train, error_val = learningCurveAvg (X_poly, y, X_poly_val, y_val, lambda_reg)"
   ]
  },
  {
   "cell_type": "code",
   "execution_count": 45,
   "metadata": {
    "collapsed": false
   },
   "outputs": [
    {
     "data": {
      "text/plain": [
       "<matplotlib.legend.Legend at 0x7fb70d941d10>"
      ]
     },
     "execution_count": 45,
     "metadata": {},
     "output_type": "execute_result"
    },
    {
     "data": {
      "image/png": "[encoded data removed]",
      "text/plain": [
       "<matplotlib.figure.Figure at 0x7fb70d91ec50>"
      ]
     },
     "metadata": {},
     "output_type": "display_data"
    }
   ],
   "source": [
    "fig = plt.figure ()\n",
    "ax = fig.add_subplot (111)\n",
    "ax.plot (np.arange (1, m+1), error_train, label='Train')\n",
    "ax.plot (np.arange (1, m+1), error_val, label='Cross Validation')\n",
    "ax.set_xlabel ('Number of training examples')\n",
    "ax.set_ylabel ('Error')\n",
    "ax.set_ylim (0, 150)\n",
    "ax.grid ()\n",
    "ax.set_title ('Polynomial Regression Learning Curve (lambda = {0:.2f})'.format (lambda_reg))\n",
    "ax.legend (loc='upper right')"
   ]
  },
  {
   "cell_type": "code",
   "execution_count": null,
   "metadata": {
    "collapsed": true
   },
   "outputs": [],
   "source": []
  }
 ],
 "metadata": {
  "kernelspec": {
   "display_name": "Python 2",
   "language": "python",
   "name": "python2"
  },
  "language_info": {
   "codemirror_mode": {
    "name": "ipython",
    "version": 2
   },
   "file_extension": ".py",
   "mimetype": "text/x-python",
   "name": "python",
   "nbconvert_exporter": "python",
   "pygments_lexer": "ipython2",
   "version": "2.7.12"
  }
 },
 "nbformat": 4,
 "nbformat_minor": 1
}
