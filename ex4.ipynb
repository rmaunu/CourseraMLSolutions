{
 "cells": [
  {
   "cell_type": "code",
   "execution_count": 70,
   "metadata": {
    "collapsed": true
   },
   "outputs": [],
   "source": [
    "from __future__ import print_function\n",
    "\n",
    "import numpy as np\n",
    "import seaborn as sbn\n",
    "import matplotlib as mpl\n",
    "import matplotlib.pyplot as plt\n",
    "import matplotlib.gridspec as gridspec\n",
    "import scipy\n",
    "import scipy.optimize\n",
    "import scipy.io\n",
    "\n",
    "from itertools import izip\n",
    "\n",
    "plt.style.use('classic')\n",
    "mpl.rcParams['axes.xmargin'] = 0.0\n",
    "mpl.rcParams['axes.ymargin'] = 0.0\n",
    "\n",
    "%matplotlib inline"
   ]
  },
  {
   "cell_type": "code",
   "execution_count": 19,
   "metadata": {
    "collapsed": false
   },
   "outputs": [],
   "source": [
    "data = scipy.io.loadmat ('ex4data1.mat')\n",
    "X = data['X']\n",
    "y = data['y'] - 1"
   ]
  },
  {
   "cell_type": "code",
   "execution_count": 130,
   "metadata": {
    "collapsed": false
   },
   "outputs": [
    {
     "data": {
      "image/png": "[encoded data removed]",
      "text/plain": [
       "<matplotlib.figure.Figure at 0x7f45bd6d6510>"
      ]
     },
     "metadata": {},
     "output_type": "display_data"
    }
   ],
   "source": [
    "sel = np.random.choice (len (X), size=20)\n",
    "plt.figure (figsize=(10,200))\n",
    "gs = gridspec.GridSpec (1, 20, \n",
    "                        wspace=0., hspace=0., \n",
    "                        left=0., right=1., \n",
    "                        bottom=0., top=1.)\n",
    "xs = np.arange (20)[::-1]\n",
    "ys = np.arange (20)[::-1]\n",
    "xs_grid, ys_grid = np.meshgrid (xs, ys, indexing='ij')\n",
    "for i, s in enumerate (sel):\n",
    "    ax = plt.subplot (gs[i])\n",
    "    ax.pcolormesh (xs_grid, ys_grid, X[s].reshape (20, 20)[::-1], cmap='Greys')\n",
    "    ax.get_xaxis().set_visible(False)\n",
    "    ax.get_yaxis().set_visible(False)\n",
    "    ax.set_aspect ('equal')\n",
    "    ax.set_xlim (-0.5, 19.5)\n",
    "    ax.set_ylim (-0.5, 19.5)"
   ]
  },
  {
   "cell_type": "code",
   "execution_count": 4,
   "metadata": {
    "collapsed": false
   },
   "outputs": [],
   "source": [
    "weights = scipy.io.loadmat ('ex4weights.mat')\n",
    "Theta1 = weights['Theta1']\n",
    "Theta2 = weights['Theta2']\n",
    "input_layer_size  = 400\n",
    "hidden_layer_size = 25\n",
    "num_labels = 10\n",
    "\n",
    "nn_params = np.append (Theta1.flatten (), Theta2.flatten ())"
   ]
  },
  {
   "cell_type": "code",
   "execution_count": 5,
   "metadata": {
    "collapsed": false
   },
   "outputs": [],
   "source": [
    "def sigmoid (z):\n",
    "    return (1. / (1. + np.exp (-z)))\n",
    "\n",
    "def sigmoidGradient (z):\n",
    "    g = sigmoid (z)\n",
    "    return (g * (1. - g))"
   ]
  },
  {
   "cell_type": "code",
   "execution_count": 6,
   "metadata": {
    "collapsed": false
   },
   "outputs": [],
   "source": [
    "def nnCostFunction (nn_params, input_layer_size, \n",
    "                    hidden_layer_size, num_labels, \n",
    "                    X, y, lambda_reg):\n",
    "    Theta1 = nn_params[:(hidden_layer_size * (input_layer_size + 1))].reshape (\n",
    "        hidden_layer_size, input_layer_size + 1)\n",
    "    Theta2 = nn_params[(hidden_layer_size * (input_layer_size + 1)):]\n",
    "    Theta2 = Theta2.reshape (\n",
    "        num_labels, hidden_layer_size + 1)\n",
    "    \n",
    "    m = X.shape[0]\n",
    "    \n",
    "    y_vec = np.zeros ((m, num_labels))\n",
    "    for i in range (m):\n",
    "        y_vec[i, y[i]] = 1\n",
    "    \n",
    "    a1 = np.hstack ((np.ones ((m, 1)), X))\n",
    "    \n",
    "    z2 = a1.dot (Theta1.T)\n",
    "    a2 = sigmoid (z2)\n",
    "    \n",
    "    a2 = np.hstack ((np.ones ((m, 1)), a2))\n",
    "    z3 = a2.dot (Theta2.T)\n",
    "    a3 = sigmoid (z3)\n",
    "    \n",
    "    J = 0\n",
    "    for i in range (m):\n",
    "        J -= 1./m * (y_vec[[i]].dot (np.log (a3[[i]].T)) + \n",
    "                     (1. - y_vec[[i]]).dot (np.log ((1. - a3[[i]]).T)))[0][0]\n",
    "    \n",
    "    J += lambda_reg/(2.*m) * np.sum (Theta1[:, 1:]**2)\n",
    "    J += lambda_reg/(2.*m) * np.sum (Theta2[:, 1:]**2)\n",
    "    \n",
    "    return (J)\n",
    "\n",
    "def nnGradient (nn_params, input_layer_size, \n",
    "                hidden_layer_size, num_labels, \n",
    "                X, y, lambda_reg):\n",
    "    \n",
    "    Theta1 = nn_params[:(hidden_layer_size * (input_layer_size + 1))].reshape (\n",
    "        hidden_layer_size, input_layer_size + 1)\n",
    "    Theta2 = nn_params[(hidden_layer_size * (input_layer_size + 1)):].reshape (\n",
    "        num_labels, hidden_layer_size + 1)\n",
    "    \n",
    "    m = X.shape[0]\n",
    "    \n",
    "    y_vec = np.zeros ((m, num_labels))\n",
    "    for i in range (m):\n",
    "        y_vec[i, y[i]] = 1\n",
    "    \n",
    "    a1 = np.hstack ((np.ones ((m, 1)), X))\n",
    "    \n",
    "    z2 = a1.dot (Theta1.T)\n",
    "    a2 = sigmoid (z2)\n",
    "    \n",
    "    a2 = np.hstack ((np.ones ((m, 1)), a2))\n",
    "    z3 = a2.dot (Theta2.T)\n",
    "    a3 = sigmoid (z3)\n",
    "    \n",
    "    delta3 = a3 - y_vec\n",
    "    delta2 = delta3.dot (Theta2)\n",
    "    delta2 = delta2[:, 1:] * sigmoidGradient (z2)\n",
    "    Theta1_grad = 1./m * delta2.T.dot (a1)\n",
    "    Theta2_grad = 1./m * delta3.T.dot (a2)\n",
    "    Theta1_grad[:, 1:] = Theta1_grad[:, 1:] + lambda_reg/m * Theta1[:, 1:]\n",
    "    Theta2_grad[:, 1:] = Theta2_grad[:, 1:] + lambda_reg/m * Theta2[:, 1:]\n",
    "    \n",
    "    return (np.append (Theta1_grad.flatten (), Theta2_grad.flatten ()))\n",
    "\n",
    "def numericalGradient (func, theta):\n",
    "    num_grad = np.zeros (theta.shape)\n",
    "    perturb = np.zeros (theta.shape)\n",
    "    eps = 1e-4\n",
    "    \n",
    "    for p in range (theta.size):\n",
    "        perturb[p] = eps\n",
    "        loss1 = func (theta - perturb)\n",
    "        loss2 = func (theta + perturb)\n",
    "        num_grad[p] = (loss2 - loss1) / (2.*eps)\n",
    "        perturb[p] = 0.\n",
    "        \n",
    "    return (num_grad)"
   ]
  },
  {
   "cell_type": "code",
   "execution_count": 7,
   "metadata": {
    "collapsed": false
   },
   "outputs": [
    {
     "name": "stdout",
     "output_type": "stream",
     "text": [
      "Cost at parameters (loaded from ex4weights): 0.287629\n",
      "(this value should be about 0.287629)\n"
     ]
    }
   ],
   "source": [
    "lambda_reg = 0.\n",
    "J = nnCostFunction (nn_params, input_layer_size, hidden_layer_size,\n",
    "                    num_labels, X, y, lambda_reg)\n",
    "\n",
    "print ('Cost at parameters (loaded from ex4weights): {0:.6f}'.format (J))\n",
    "print ('(this value should be about 0.287629)')"
   ]
  },
  {
   "cell_type": "code",
   "execution_count": 8,
   "metadata": {
    "collapsed": false
   },
   "outputs": [
    {
     "name": "stdout",
     "output_type": "stream",
     "text": [
      "Cost at parameters (loaded from ex4weights): 0.383770\n",
      "(this value should be about 0.383770)\n"
     ]
    }
   ],
   "source": [
    "lambda_reg = 1.\n",
    "J = nnCostFunction (nn_params, input_layer_size, hidden_layer_size,\n",
    "                    num_labels, X, y, lambda_reg)\n",
    "\n",
    "print ('Cost at parameters (loaded from ex4weights): {0:.6f}'.format (J))\n",
    "print ('(this value should be about 0.383770)')"
   ]
  },
  {
   "cell_type": "code",
   "execution_count": 9,
   "metadata": {
    "collapsed": false
   },
   "outputs": [
    {
     "name": "stdout",
     "output_type": "stream",
     "text": [
      "Sigmoid gradient evaluated at [-1 -0.5 0 0.5 1]\n",
      "[ 0.19661193  0.23500371  0.25        0.23500371  0.19661193]\n"
     ]
    }
   ],
   "source": [
    "g = sigmoidGradient(np.array ([-1, -0.5, 0, 0.5, 1]))\n",
    "\n",
    "print ('Sigmoid gradient evaluated at [-1 -0.5 0 0.5 1]')\n",
    "print (g)"
   ]
  },
  {
   "cell_type": "code",
   "execution_count": 10,
   "metadata": {
    "collapsed": true
   },
   "outputs": [],
   "source": [
    "epsilon_init = 0.12\n",
    "\n",
    "def randInitializeWeights (L_in, L_out):\n",
    "    return (np.random.uniform (low=-epsilon_init, \n",
    "                               high=epsilon_init, \n",
    "                               size=(L_out, L_in + 1)))"
   ]
  },
  {
   "cell_type": "code",
   "execution_count": 11,
   "metadata": {
    "collapsed": false
   },
   "outputs": [],
   "source": [
    "initial_Theta1 = randInitializeWeights (input_layer_size, \n",
    "                                        hidden_layer_size)\n",
    "initial_Theta2 = randInitializeWeights (hidden_layer_size,\n",
    "                                        num_labels)\n",
    "\n",
    "initial_nn_params = np.append (initial_Theta1.flatten (), \n",
    "                               initial_Theta2.flatten ())"
   ]
  },
  {
   "cell_type": "code",
   "execution_count": 12,
   "metadata": {
    "collapsed": true
   },
   "outputs": [],
   "source": [
    "def debugInitializeWeights (fan_out, fan_in):\n",
    "    temp = np.zeros ((fan_out, fan_in + 1))\n",
    "    return ((np.sin (range (0, temp.size))).reshape (temp.shape))"
   ]
  },
  {
   "cell_type": "code",
   "execution_count": 13,
   "metadata": {
    "collapsed": false
   },
   "outputs": [],
   "source": [
    "def checkNNGradients (l=0.):\n",
    "    input_layer_size = 3\n",
    "    hidden_layer_size = 5\n",
    "    num_labels = 3\n",
    "    m = 5\n",
    "    \n",
    "    Theta1 = debugInitializeWeights (hidden_layer_size, input_layer_size)\n",
    "    Theta2 = debugInitializeWeights (num_labels, hidden_layer_size)\n",
    "    \n",
    "    X = debugInitializeWeights (m, input_layer_size-1)\n",
    "    y = np.mod (range (m), num_labels).reshape (m, 1)\n",
    "    \n",
    "    nn_params = np.append (Theta1.flatten (), Theta2.flatten ())\n",
    "    \n",
    "    costFunc = lambda p, ils=input_layer_size, \\\n",
    "        hls=hidden_layer_size, nls=num_labels, X=X, y=y, l=lambda_reg: \\\n",
    "            nnCostFunction (p, ils, hls, nls, X, y, l)\n",
    "    \n",
    "    gradFunc = lambda p, ils=input_layer_size, \\\n",
    "        hls=hidden_layer_size, nls=num_labels, X=X, y=y, l=lambda_reg: \\\n",
    "            nnGradient (p, ils, hls, nls, X, y, l)\n",
    "    \n",
    "    cost = costFunc (nn_params)\n",
    "    grad = gradFunc (nn_params)   \n",
    "    \n",
    "    num_grad = numericalGradient (costFunc, nn_params)\n",
    "    \n",
    "    print (np.hstack ((num_grad.reshape (-1, 1), grad.reshape (-1, 1))))\n",
    "    print ('The above two columns you get should be very similar.')\n",
    "    print ('(Left-Your Numerical Gradient, Right-Analytical Gradient)')\n",
    "    print ()\n",
    "    \n",
    "    diff = np.linalg.norm (num_grad - grad) / \\\n",
    "        np.linalg.norm (num_grad + grad)\n",
    "        \n",
    "    print ('If your backpropagation implementation is correct, then ')\n",
    "    print ('the relative difference will be small (less than 1e-9). ')\n",
    "    print ('Relative Difference:', diff)"
   ]
  },
  {
   "cell_type": "code",
   "execution_count": 14,
   "metadata": {
    "collapsed": false
   },
   "outputs": [
    {
     "name": "stdout",
     "output_type": "stream",
     "text": [
      "[[ 0.0674626   0.0674626 ]\n",
      " [ 0.15783461  0.15783461]\n",
      " [ 0.19714626  0.19714626]\n",
      " [ 0.05520255  0.05520255]\n",
      " [ 0.1005383   0.1005383 ]\n",
      " [-0.20106089 -0.20106089]\n",
      " [-0.02795059 -0.02795059]\n",
      " [ 0.17085735  0.17085735]\n",
      " [ 0.0362788   0.0362788 ]\n",
      " [ 0.08224174  0.08224174]\n",
      " [-0.09440395 -0.09440395]\n",
      " [-0.18425508 -0.18425508]\n",
      " [-0.0465067  -0.0465067 ]\n",
      " [ 0.09563276  0.09563276]\n",
      " [ 0.18011249  0.18011249]\n",
      " [ 0.09899762  0.09899762]\n",
      " [-0.11622808 -0.11622808]\n",
      " [-0.18744305 -0.18744305]\n",
      " [-0.16480599 -0.16480599]\n",
      " [ 0.00935294  0.00935294]\n",
      " [ 0.12738199  0.12738199]\n",
      " [ 0.21756767  0.21756767]\n",
      " [ 0.26415784  0.26415784]\n",
      " [ 0.0791804   0.0791804 ]\n",
      " [-0.08860164 -0.08860164]\n",
      " [-0.10935721 -0.10935721]\n",
      " [ 0.10132144  0.10132144]\n",
      " [ 0.22412062  0.22412062]\n",
      " [ 0.22521796  0.22521796]\n",
      " [ 0.12346978  0.12346978]\n",
      " [-0.02476629 -0.02476629]\n",
      " [-0.18986037 -0.18986037]\n",
      " [ 0.27514068  0.27514068]\n",
      " [ 0.20726117  0.20726117]\n",
      " [ 0.27292842  0.27292842]\n",
      " [ 0.34174548  0.34174548]\n",
      " [ 0.02395977  0.02395977]\n",
      " [-0.0719615  -0.0719615 ]]\n",
      "The above two columns you get should be very similar.\n",
      "(Left-Your Numerical Gradient, Right-Analytical Gradient)\n",
      "\n",
      "If your backpropagation implementation is correct, then \n",
      "the relative difference will be small (less than 1e-9). \n",
      "Relative Difference: 8.03257193605e-11\n"
     ]
    }
   ],
   "source": [
    "checkNNGradients ()"
   ]
  },
  {
   "cell_type": "code",
   "execution_count": 15,
   "metadata": {
    "collapsed": false
   },
   "outputs": [
    {
     "name": "stdout",
     "output_type": "stream",
     "text": [
      "[[ 0.0674626   0.0674626 ]\n",
      " [ 0.15783461  0.15783461]\n",
      " [ 0.19714626  0.19714626]\n",
      " [ 0.05520255  0.05520255]\n",
      " [ 0.1005383   0.1005383 ]\n",
      " [-0.20106089 -0.20106089]\n",
      " [-0.02795059 -0.02795059]\n",
      " [ 0.17085735  0.17085735]\n",
      " [ 0.0362788   0.0362788 ]\n",
      " [ 0.08224174  0.08224174]\n",
      " [-0.09440395 -0.09440395]\n",
      " [-0.18425508 -0.18425508]\n",
      " [-0.0465067  -0.0465067 ]\n",
      " [ 0.09563276  0.09563276]\n",
      " [ 0.18011249  0.18011249]\n",
      " [ 0.09899762  0.09899762]\n",
      " [-0.11622808 -0.11622808]\n",
      " [-0.18744305 -0.18744305]\n",
      " [-0.16480599 -0.16480599]\n",
      " [ 0.00935294  0.00935294]\n",
      " [ 0.12738199  0.12738199]\n",
      " [ 0.21756767  0.21756767]\n",
      " [ 0.26415784  0.26415784]\n",
      " [ 0.0791804   0.0791804 ]\n",
      " [-0.08860164 -0.08860164]\n",
      " [-0.10935721 -0.10935721]\n",
      " [ 0.10132144  0.10132144]\n",
      " [ 0.22412062  0.22412062]\n",
      " [ 0.22521796  0.22521796]\n",
      " [ 0.12346978  0.12346978]\n",
      " [-0.02476629 -0.02476629]\n",
      " [-0.18986037 -0.18986037]\n",
      " [ 0.27514068  0.27514068]\n",
      " [ 0.20726117  0.20726117]\n",
      " [ 0.27292842  0.27292842]\n",
      " [ 0.34174548  0.34174548]\n",
      " [ 0.02395977  0.02395977]\n",
      " [-0.0719615  -0.0719615 ]]\n",
      "The above two columns you get should be very similar.\n",
      "(Left-Your Numerical Gradient, Right-Analytical Gradient)\n",
      "\n",
      "If your backpropagation implementation is correct, then \n",
      "the relative difference will be small (less than 1e-9). \n",
      "Relative Difference: 8.03257193605e-11\n"
     ]
    }
   ],
   "source": [
    "checkNNGradients (3.)"
   ]
  },
  {
   "cell_type": "code",
   "execution_count": 16,
   "metadata": {
    "collapsed": false
   },
   "outputs": [
    {
     "name": "stdout",
     "output_type": "stream",
     "text": [
      "Cost at (fixed) debugging parameters (w/ lambda = 3): 0.576051\n",
      "(this value should be about 0.576051)\n"
     ]
    }
   ],
   "source": [
    "lambda_reg = 3.\n",
    "debug_J = nnCostFunction (nn_params, input_layer_size,\n",
    "                          hidden_layer_size, num_labels, \n",
    "                          X, y, lambda_reg)\n",
    "\n",
    "print ('Cost at (fixed) debugging parameters (w/ lambda = 3): {0:.6f}'.format (debug_J))\n",
    "print ('(this value should be about 0.576051)')"
   ]
  },
  {
   "cell_type": "code",
   "execution_count": 145,
   "metadata": {
    "collapsed": false
   },
   "outputs": [
    {
     "name": "stdout",
     "output_type": "stream",
     "text": [
      "Warning: Maximum number of iterations has been exceeded.\n",
      "         Current function value: 0.457574\n",
      "         Iterations: 50\n",
      "         Function evaluations: 102\n",
      "         Gradient evaluations: 102\n"
     ]
    }
   ],
   "source": [
    "lambda_reg = 1.\n",
    "result = scipy.optimize.minimize (\n",
    "    fun=nnCostFunction, x0 = initial_nn_params,\n",
    "    args = (input_layer_size, hidden_layer_size, num_labels,\n",
    "            X, y, lambda_reg),\n",
    "    method='CG', jac=nnGradient, \n",
    "    options=dict(maxiter=50, disp=True))"
   ]
  },
  {
   "cell_type": "code",
   "execution_count": 146,
   "metadata": {
    "collapsed": false,
    "scrolled": true
   },
   "outputs": [
    {
     "data": {
      "image/png": "[encoded data removed]",
      "text/plain": [
       "<matplotlib.figure.Figure at 0x7f45bda0d8d0>"
      ]
     },
     "metadata": {},
     "output_type": "display_data"
    }
   ],
   "source": [
    "Theta1 = result.x[:((input_layer_size+1)*hidden_layer_size)].reshape ((\n",
    "    hidden_layer_size, input_layer_size+1))\n",
    "Theta2 = result.x[((input_layer_size+1)*hidden_layer_size):].reshape ((\n",
    "    num_labels, hidden_layer_size+1))\n",
    "\n",
    "Theta1_plot = Theta1[:, 1:]\n",
    "\n",
    "fig = plt.figure (figsize=(5, 5))\n",
    "gs = gridspec.GridSpec (5, 5, \n",
    "                        wspace=0., hspace=0., \n",
    "                        left=0., right=1., \n",
    "                        bottom=0., top=1.)\n",
    "\n",
    "xs = np.arange (20)[::-1]\n",
    "ys = np.arange (20)[::-1]\n",
    "xs_grid, ys_grid = np.meshgrid (xs, ys, indexing='ij')\n",
    "for i, row in enumerate (Theta1_plot):\n",
    "    ax = plt.subplot (gs[i])\n",
    "    ax.pcolormesh (xs_grid, ys_grid, row.reshape (20, 20)[::-1], \n",
    "                   cmap='RdBu_r', vmin=-2, vmax=2)\n",
    "    ax.get_xaxis().set_visible(False)\n",
    "    ax.get_yaxis().set_visible(False)\n",
    "    ax.set_aspect ('equal')\n",
    "    ax.set_xlim (-0.5, 19.5)\n",
    "    ax.set_ylim (-0.5, 19.5)"
   ]
  },
  {
   "cell_type": "code",
   "execution_count": 147,
   "metadata": {
    "collapsed": false
   },
   "outputs": [],
   "source": [
    "def predict (Theta1, Theta2, X):\n",
    "    m = X.shape[0]\n",
    "    num_labels = Theta2.shape[0]\n",
    "    \n",
    "    X = np.hstack ((np.ones ((m, 1)), X))\n",
    "    \n",
    "    h1 = sigmoid (X.dot (Theta1.T))\n",
    "    h1 = np.hstack ((np.ones ((m, 1)), h1))\n",
    "    h2 = sigmoid (h1.dot (Theta2.T))\n",
    "    \n",
    "    p = np.argmax (h2, axis=1).reshape ((m, 1))\n",
    "    return (p)   "
   ]
  },
  {
   "cell_type": "code",
   "execution_count": 148,
   "metadata": {
    "collapsed": false
   },
   "outputs": [
    {
     "name": "stdout",
     "output_type": "stream",
     "text": [
      "Training Set Accuracy: 95.70%\n"
     ]
    }
   ],
   "source": [
    "pred = predict (Theta1, Theta2, X)\n",
    "print ('Training Set Accuracy: {0:.2f}%'.format (\n",
    "        100. / len (y) * (pred == y).sum ()))"
   ]
  },
  {
   "cell_type": "code",
   "execution_count": null,
   "metadata": {
    "collapsed": true
   },
   "outputs": [],
   "source": []
  }
 ],
 "metadata": {
  "kernelspec": {
   "display_name": "Python 2",
   "language": "python",
   "name": "python2"
  },
  "language_info": {
   "codemirror_mode": {
    "name": "ipython",
    "version": 2
   },
   "file_extension": ".py",
   "mimetype": "text/x-python",
   "name": "python",
   "nbconvert_exporter": "python",
   "pygments_lexer": "ipython2",
   "version": "2.7.12"
  }
 },
 "nbformat": 4,
 "nbformat_minor": 1
}
