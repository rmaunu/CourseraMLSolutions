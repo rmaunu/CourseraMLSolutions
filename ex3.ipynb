{
 "cells": [
  {
   "cell_type": "code",
   "execution_count": 1,
   "metadata": {
    "collapsed": false
   },
   "outputs": [],
   "source": [
    "from __future__ import print_function\n",
    "\n",
    "import numpy as np\n",
    "import seaborn as sbn\n",
    "import matplotlib as mpl\n",
    "import matplotlib.pyplot as plt\n",
    "import scipy\n",
    "import scipy.optimize\n",
    "import scipy.io\n",
    "\n",
    "from mpl_toolkits.mplot3d import Axes3D\n",
    "\n",
    "plt.style.use('classic')\n",
    "mpl.rcParams['axes.xmargin'] = 0.0\n",
    "mpl.rcParams['axes.ymargin'] = 0.0\n",
    "\n",
    "%matplotlib inline"
   ]
  },
  {
   "cell_type": "code",
   "execution_count": 45,
   "metadata": {
    "collapsed": true
   },
   "outputs": [],
   "source": [
    "data = scipy.io.loadmat ('ex3data1.mat')\n",
    "X = data['X']\n",
    "y = data['y']\n",
    "y[y==10] = 0"
   ]
  },
  {
   "cell_type": "code",
   "execution_count": 46,
   "metadata": {
    "collapsed": false
   },
   "outputs": [
    {
     "data": {
      "text/plain": [
       "(-0.5, 399.5, 19.5, -0.5)"
      ]
     },
     "execution_count": 46,
     "metadata": {},
     "output_type": "execute_result"
    },
    {
     "data": {
      "image/png": "[encoded data removed]",
      "text/plain": [
       "<matplotlib.figure.Figure at 0x7f5c76ca38d0>"
      ]
     },
     "metadata": {},
     "output_type": "display_data"
    }
   ],
   "source": [
    "sel = np.random.choice (len (X), size=20)\n",
    "plt.figure ()\n",
    "plt.imshow (X[sel].reshape (-1, 20).T, cmap='Greys')\n",
    "plt.axis ('off')"
   ]
  },
  {
   "cell_type": "code",
   "execution_count": 47,
   "metadata": {
    "collapsed": false
   },
   "outputs": [],
   "source": [
    "def sigmoid (z):\n",
    "    return (1. / (1. + np.exp (-z)))\n",
    "\n",
    "def gradient (theta, X, y, lambda_reg):\n",
    "    m = len (y)\n",
    "    theta = theta.reshape((X.shape[1], 1))\n",
    "    h_theta = sigmoid (X.dot (theta))\n",
    "    grad = 1./m * (h_theta - y).T.dot (X)\n",
    "    grad[:, 1:] += lambda_reg/m * theta.T[:, 1:]\n",
    "    return (grad.flatten ())\n",
    "\n",
    "def lrCostFunction (theta, X, y, lambda_reg):\n",
    "    m = len (y)\n",
    "    theta = theta.reshape((X.shape[1], 1))\n",
    "    h_theta = sigmoid (X.dot (theta))\n",
    "    J = -1./m * (y.T.dot (np.log (h_theta)) + \n",
    "                 (1 - y).T.dot (np.log (1 - h_theta))) + \\\n",
    "            lambda_reg/(2.*m) * theta.T.dot (theta)\n",
    "        \n",
    "    return (J)"
   ]
  },
  {
   "cell_type": "code",
   "execution_count": 51,
   "metadata": {
    "collapsed": true
   },
   "outputs": [],
   "source": [
    "def oneVsAll (X, y, num_labels, lambda_reg):\n",
    "    m = X.shape[0]\n",
    "    n = X.shape[1]\n",
    "    \n",
    "    all_theta = np.zeros ((num_labels, n+1))\n",
    "    \n",
    "    X = np.hstack ((np.ones((m, 1)), X))\n",
    "    \n",
    "    for c in range (num_labels):\n",
    "        initial_theta = np.zeros (n+1)\n",
    "        result = scipy.optimize.minimize (\n",
    "            fun=lrCostFunction, x0=initial_theta, \n",
    "            args=(X, (y == c), lambda_reg), method='BFGS', \n",
    "            jac=gradient, \n",
    "            options=dict(maxiter=100, disp=True))\n",
    "        \n",
    "        all_theta[c] = result.x\n",
    "        \n",
    "    return all_theta\n",
    "\n",
    "def predictOneVsAll (all_theta, X):\n",
    "    m = X.shape[0]\n",
    "    n = X.shape[1]\n",
    "    \n",
    "    X = np.hstack ((np.ones((m, 1)), X))\n",
    "    \n",
    "    prob = X.dot (all_theta.T)\n",
    "    pred = np.argmax (prob, axis=1).reshape (m, 1)\n",
    "    return (pred)    "
   ]
  },
  {
   "cell_type": "code",
   "execution_count": 52,
   "metadata": {
    "collapsed": false,
    "scrolled": true
   },
   "outputs": [
    {
     "name": "stdout",
     "output_type": "stream",
     "text": [
      "Warning: Maximum number of iterations has been exceeded.\n",
      "         Current function value: 0.011784\n",
      "         Iterations: 100\n",
      "         Function evaluations: 105\n",
      "         Gradient evaluations: 105\n",
      "Warning: Maximum number of iterations has been exceeded.\n",
      "         Current function value: 0.015540\n",
      "         Iterations: 100\n",
      "         Function evaluations: 101\n",
      "         Gradient evaluations: 101\n",
      "Warning: Maximum number of iterations has been exceeded.\n",
      "         Current function value: 0.057863\n",
      "         Iterations: 100\n",
      "         Function evaluations: 101\n",
      "         Gradient evaluations: 101\n",
      "Warning: Maximum number of iterations has been exceeded.\n",
      "         Current function value: 0.064206\n",
      "         Iterations: 100\n",
      "         Function evaluations: 101\n",
      "         Gradient evaluations: 101\n",
      "Warning: Maximum number of iterations has been exceeded.\n",
      "         Current function value: 0.039404\n",
      "         Iterations: 100\n",
      "         Function evaluations: 101\n",
      "         Gradient evaluations: 101\n",
      "Warning: Maximum number of iterations has been exceeded.\n",
      "         Current function value: 0.062651\n",
      "         Iterations: 100\n",
      "         Function evaluations: 101\n",
      "         Gradient evaluations: 101\n",
      "Warning: Maximum number of iterations has been exceeded.\n",
      "         Current function value: 0.023858\n",
      "         Iterations: 100\n",
      "         Function evaluations: 101\n",
      "         Gradient evaluations: 101\n",
      "Warning: Maximum number of iterations has been exceeded.\n",
      "         Current function value: 0.036249\n",
      "         Iterations: 100\n",
      "         Function evaluations: 101\n",
      "         Gradient evaluations: 101\n",
      "Warning: Maximum number of iterations has been exceeded.\n",
      "         Current function value: 0.085415\n",
      "         Iterations: 100\n",
      "         Function evaluations: 101\n",
      "         Gradient evaluations: 101\n",
      "Warning: Maximum number of iterations has been exceeded.\n",
      "         Current function value: 0.078204\n",
      "         Iterations: 100\n",
      "         Function evaluations: 101\n",
      "         Gradient evaluations: 101\n"
     ]
    }
   ],
   "source": [
    "num_labels = 10\n",
    "lambda_reg = 0.1\n",
    "\n",
    "all_theta = oneVsAll (X, y, num_labels, lambda_reg)"
   ]
  },
  {
   "cell_type": "code",
   "execution_count": 53,
   "metadata": {
    "collapsed": false
   },
   "outputs": [
    {
     "name": "stdout",
     "output_type": "stream",
     "text": [
      "Train Accuracy: 94.98%\n"
     ]
    }
   ],
   "source": [
    "p = predictOneVsAll (all_theta, X)\n",
    "print ('Train Accuracy: {0:.2f}%'.format (100. / len (y) * (p == y).sum ()))"
   ]
  },
  {
   "cell_type": "code",
   "execution_count": 69,
   "metadata": {
    "collapsed": false
   },
   "outputs": [],
   "source": [
    "data = scipy.io.loadmat ('ex3data1.mat')\n",
    "X = data['X']\n",
    "y = data['y'] - 1  # Get python and MATLAB indexing to match given the definitions of Theta\n",
    "\n",
    "weights = scipy.io.loadmat ('ex3weights.mat')\n",
    "Theta1 = weights['Theta1']\n",
    "Theta2 = weights['Theta2']\n",
    "\n",
    "m = X.shape[0]"
   ]
  },
  {
   "cell_type": "code",
   "execution_count": 70,
   "metadata": {
    "collapsed": false
   },
   "outputs": [],
   "source": [
    "def predictNN (Theta1, Theta2, X):\n",
    "    m = X.shape[0]\n",
    "    num_labels = Theta2.shape[0]\n",
    "    \n",
    "    X = np.hstack ((np.ones ((m, 1)), X))\n",
    "    \n",
    "    z2 = X.dot (Theta1.T)\n",
    "    a2 = sigmoid (z2)\n",
    "    \n",
    "    a2 = np.hstack ((np.ones ((m, 1)), a2))\n",
    "    z3 = a2.dot (Theta2.T)\n",
    "    prob = sigmoid (z3)\n",
    "    \n",
    "    return (np.argmax (prob, axis=1).reshape (m, 1))"
   ]
  },
  {
   "cell_type": "code",
   "execution_count": 71,
   "metadata": {
    "collapsed": false
   },
   "outputs": [
    {
     "name": "stdout",
     "output_type": "stream",
     "text": [
      "Train Accuracy: 97.52%\n"
     ]
    }
   ],
   "source": [
    "p = predictNN (Theta1, Theta2, X)\n",
    "print ('Train Accuracy: {0:.2f}%'.format (100. / len (y) * (p == y).sum ()))"
   ]
  },
  {
   "cell_type": "code",
   "execution_count": null,
   "metadata": {
    "collapsed": true
   },
   "outputs": [],
   "source": []
  }
 ],
 "metadata": {
  "kernelspec": {
   "display_name": "Python 2",
   "language": "python",
   "name": "python2"
  },
  "language_info": {
   "codemirror_mode": {
    "name": "ipython",
    "version": 2
   },
   "file_extension": ".py",
   "mimetype": "text/x-python",
   "name": "python",
   "nbconvert_exporter": "python",
   "pygments_lexer": "ipython2",
   "version": "2.7.12"
  }
 },
 "nbformat": 4,
 "nbformat_minor": 1
}
